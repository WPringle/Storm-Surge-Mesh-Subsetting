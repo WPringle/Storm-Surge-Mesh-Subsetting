{
 "cells": [
  {
   "cell_type": "markdown",
   "metadata": {},
   "source": [
    "## Getting TC track and modifying it"
   ]
  },
  {
   "cell_type": "markdown",
   "metadata": {},
   "source": [
    "### Import packages"
   ]
  },
  {
   "cell_type": "code",
   "execution_count": 183,
   "metadata": {
    "scrolled": true
   },
   "outputs": [],
   "source": [
    "import numpy as np\n",
    "import matplotlib.pyplot as plt\n",
    "from   pyproj import Proj\n",
    "import shapely.geometry as shp\n",
    "from shapely import affinity\n",
    "from scipy import interpolate\n",
    "import glob as gl\n",
    "import geopandas as gpd\n",
    "import cartopy.crs as ccrs"
   ]
  },
  {
   "cell_type": "markdown",
   "metadata": {},
   "source": [
    "### Define some functions"
   ]
  },
  {
   "cell_type": "code",
   "execution_count": 240,
   "metadata": {
    "scrolled": false
   },
   "outputs": [],
   "source": [
    "def utm_proj_from_lon(lon_mean):\n",
    "    \"\"\"\n",
    "    utm_from_lon - UTM zone for a longitude\n",
    "    Not right for some polar regions (Norway, Svalbard, Antartica)\n",
    "    :param float lon: longitude\n",
    "    :return: UTM zone number\n",
    "    :rtype: int\n",
    "    \n",
    "    :usage   x_utm,y_utm   = myProj(lon, lat  , inverse=False)\n",
    "    :usage   lon, lat      = myProj(xutm, yutm, inverse=True)\n",
    "    \n",
    "    \"\"\"\n",
    "    zone =  np.floor( ( lon_mean + 180 ) / 6) + 1\n",
    "    #print(\"Zone is \" + str(zone))\n",
    "    myProj        = Proj(\"+proj=utm +zone=\"+str(zone)+\"K, +ellps=WGS84 +datum=WGS84 +units=m +no_defs\")\n",
    "    return myProj\n",
    "\n",
    "\n",
    "def interpolate_line(xin,yin,dl=None,num=None , closed = False):\n",
    "    \"\"\"\n",
    "    xin,yin: input x and y\n",
    "    dl  : every dl meter\n",
    "    num : number of points to interpolate\n",
    "    \"\"\"\n",
    "    xl = []\n",
    "    yl = []\n",
    "    \n",
    "    x = np.array(xin).squeeze()\n",
    "    y = np.array(yin).squeeze()\n",
    "    \n",
    "    if closed:\n",
    "        #add the 1st point to last to make it a closed line\n",
    "        x = np.r_[x,x[0]]\n",
    "        y = np.r_[y,y[0]]\n",
    "    \n",
    "    points_temp = np.array(zip(x, y)).squeeze()\n",
    "    line = shp.asLineString(points_temp)\n",
    "    \n",
    "    if dl is None:\n",
    "       dl = line.length/int(num)\n",
    "    \n",
    "    if num is None:\n",
    "       num = int(line.length//dl)\n",
    "    \n",
    "    for ir in range(num+1):\n",
    "        dist = dl * ir\n",
    "        #print dist\n",
    "        xtmp,ytmp = line.interpolate(distance = dist, normalized = False).xy\n",
    "        xl.append(xtmp)\n",
    "        yl.append(ytmp)     \n",
    "    \n",
    "    xl = np.array(xl).squeeze()\n",
    "    yl = np.array(yl).squeeze()\n",
    "    return xl,yl\n",
    "\n",
    "def distance(p1,p2):\n",
    "    dis = np.sqrt((p1[0]-p2[0])**2 + (p1[1]-p2[1])**2)\n",
    "    #dis = np.hypot(p1[0]-p2[0],p1[1]-p2[1])\n",
    "    return dis\n",
    "\n",
    "def get_offset(p1,p2,d):\n",
    "    x1 = p1[0]\n",
    "    y1 = p1[1]\n",
    "    x2 = p2[0]\n",
    "    y2 = p2[1]\n",
    "    if x1 == x2:\n",
    "        dx = d\n",
    "        dy = 0\n",
    "    elif y1 == y2:\n",
    "        dy = d\n",
    "        dx = 0\n",
    "    else: \n",
    "        # if z is the distance to your parallel curve,\n",
    "        # then your delta-x and delta-y calculations are:\n",
    "        #   z**2 = x**2 + y**2\n",
    "        #   y = pslope * x\n",
    "        #   z**2 = x**2 + (pslope * x)**2\n",
    "        #   z**2 = x**2 + pslope**2 * x**2\n",
    "        #   z**2 = (1 + pslope**2) * x**2\n",
    "        #   z**2 / (1 + pslope**2) = x**2\n",
    "        #   z / (1 + pslope**2)**0.5 = x\n",
    "            \n",
    "        # tangential slope approximation\n",
    "        slope = (y2 - y1) / (x2 - x1)      \n",
    "        # normal slope\n",
    "        pslope = -1/slope  # (might be 1/slope depending on direction of travel)\n",
    "        sign = ((pslope > 0) == (x1 > x2)) * 2 - 1\n",
    "        dx = sign * d / ((1 + pslope**2)**0.5)\n",
    "        dy = pslope * dx\n",
    "    return dx,dy\n",
    "\n",
    "\n",
    "def offset(pts,dist,dist_check):\n",
    "    \"\"\"\n",
    "    To generate offset with variable distance \n",
    "    coords = zip(x_vec,y_vec,perpendicular_dist_vec)\n",
    "    \"\"\"\n",
    "    \n",
    "    #extrap_rat = 5\n",
    "    points = []\n",
    "    for idx in range(0,len(pts)):\n",
    "        p_ref = pts[idx].coords[0]\n",
    "        x_ref = p_ref[0]\n",
    "        y_ref = p_ref[1]\n",
    "        if idx == 0:\n",
    "            p1 = pts[idx].coords[0]\n",
    "            p2 = pts[idx+1].coords[0]            \n",
    "        else:\n",
    "            p1 = pts[idx-1].coords[0]\n",
    "            p2 = pts[idx].coords[0]\n",
    "        \n",
    "        dx1,dy1 = get_offset(p1,p2,dist[idx])\n",
    "\n",
    "        if idx == len(pts)-1:\n",
    "            p1 = pts[idx-1].coords[0]\n",
    "            p2 = pts[idx].coords[0]            \n",
    "        else:\n",
    "            p1 = pts[idx].coords[0]\n",
    "            p2 = pts[idx+1].coords[0]\n",
    "        \n",
    "        dx2,dy2 = get_offset(p1,p2,dist[idx])\n",
    "        \n",
    "        dx = 0.5*(dx1 + dx2)\n",
    "        dy = 0.5*(dy1 + dy2)\n",
    "        if dist_check:\n",
    "            alpha = dist[idx]/np.sqrt(dx**2 + dy**2)\n",
    "        else:\n",
    "            alpha = 1\n",
    "        #print(alpha)\n",
    "        \n",
    "        new_pt = (x_ref + alpha*dx, y_ref + alpha*dy)\n",
    "        \n",
    "        #if dist_check: # and idx > 0:\n",
    "            # get the original distance between p1 and p2\n",
    "            #dis_orig = distance(p1,p2)\n",
    "            # make line segment from last coord in points to the \n",
    "            # new point which is perpendicular to p_ref\n",
    "            #old_pt = points[-1]\n",
    "            #new_pt_ex = (old_pt[0]+extrap_rat*(new_pt[0]-old_pt[0]), old_pt[1]+extrap_rat*(new_pt[1]-old_pt[1]) )\n",
    "            #line_segment = shp.LineString([old_pt,new_pt_ex])\n",
    "            # interpolate a distance \"along_error\" along this line_segment\n",
    "            #pnew = line_segment.interpolate(dis_orig)\n",
    "            #new_pt = pnew.coords[0]\n",
    "            #dis_new = distance(old_pt,new_pt)\n",
    "            #print(dis_orig)\n",
    "            #print(dis_new)\n",
    "            \n",
    "        #dis = distance(p_ref,new_pt)\n",
    "        #print(dist[idx],dis)\n",
    "            \n",
    "        \n",
    "        points.append(new_pt)\n",
    "    return points"
   ]
  },
  {
   "cell_type": "markdown",
   "metadata": {},
   "source": [
    "### Read the track shapefile and display"
   ]
  },
  {
   "cell_type": "code",
   "execution_count": 3,
   "metadata": {
    "scrolled": true
   },
   "outputs": [
    {
     "data": {
      "text/html": [
       "<div>\n",
       "<style scoped>\n",
       "    .dataframe tbody tr th:only-of-type {\n",
       "        vertical-align: middle;\n",
       "    }\n",
       "\n",
       "    .dataframe tbody tr th {\n",
       "        vertical-align: top;\n",
       "    }\n",
       "\n",
       "    .dataframe thead th {\n",
       "        text-align: right;\n",
       "    }\n",
       "</style>\n",
       "<table border=\"1\" class=\"dataframe\">\n",
       "  <thead>\n",
       "    <tr style=\"text-align: right;\">\n",
       "      <th></th>\n",
       "      <th>STORMNAME</th>\n",
       "      <th>DTG</th>\n",
       "      <th>YEAR</th>\n",
       "      <th>MONTH</th>\n",
       "      <th>DAY</th>\n",
       "      <th>HHMM</th>\n",
       "      <th>MSLP</th>\n",
       "      <th>BASIN</th>\n",
       "      <th>STORMNUM</th>\n",
       "      <th>STORMTYPE</th>\n",
       "      <th>INTENSITY</th>\n",
       "      <th>SS</th>\n",
       "      <th>LAT</th>\n",
       "      <th>LON</th>\n",
       "      <th>geometry</th>\n",
       "    </tr>\n",
       "  </thead>\n",
       "  <tbody>\n",
       "    <tr>\n",
       "      <th>0</th>\n",
       "      <td>INVEST</td>\n",
       "      <td>2.018083e+09</td>\n",
       "      <td>2018.0</td>\n",
       "      <td>08</td>\n",
       "      <td>30.0</td>\n",
       "      <td>0600</td>\n",
       "      <td>1008.0</td>\n",
       "      <td>al</td>\n",
       "      <td>6.0</td>\n",
       "      <td>LO</td>\n",
       "      <td>20.0</td>\n",
       "      <td>0.0</td>\n",
       "      <td>12.8</td>\n",
       "      <td>-16.9</td>\n",
       "      <td>POINT (-16.90000 12.80000)</td>\n",
       "    </tr>\n",
       "    <tr>\n",
       "      <th>1</th>\n",
       "      <td>SIX</td>\n",
       "      <td>2.018083e+09</td>\n",
       "      <td>2018.0</td>\n",
       "      <td>08</td>\n",
       "      <td>30.0</td>\n",
       "      <td>1200</td>\n",
       "      <td>1007.0</td>\n",
       "      <td>al</td>\n",
       "      <td>6.0</td>\n",
       "      <td>LO</td>\n",
       "      <td>25.0</td>\n",
       "      <td>0.0</td>\n",
       "      <td>12.8</td>\n",
       "      <td>-17.9</td>\n",
       "      <td>POINT (-17.90000 12.80000)</td>\n",
       "    </tr>\n",
       "    <tr>\n",
       "      <th>2</th>\n",
       "      <td>SIX</td>\n",
       "      <td>2.018083e+09</td>\n",
       "      <td>2018.0</td>\n",
       "      <td>08</td>\n",
       "      <td>30.0</td>\n",
       "      <td>1800</td>\n",
       "      <td>1007.0</td>\n",
       "      <td>al</td>\n",
       "      <td>6.0</td>\n",
       "      <td>LO</td>\n",
       "      <td>25.0</td>\n",
       "      <td>0.0</td>\n",
       "      <td>12.8</td>\n",
       "      <td>-19.0</td>\n",
       "      <td>POINT (-19.00000 12.80000)</td>\n",
       "    </tr>\n",
       "    <tr>\n",
       "      <th>3</th>\n",
       "      <td>SIX</td>\n",
       "      <td>2.018083e+09</td>\n",
       "      <td>2018.0</td>\n",
       "      <td>08</td>\n",
       "      <td>31.0</td>\n",
       "      <td>0000</td>\n",
       "      <td>1006.0</td>\n",
       "      <td>al</td>\n",
       "      <td>6.0</td>\n",
       "      <td>LO</td>\n",
       "      <td>30.0</td>\n",
       "      <td>0.0</td>\n",
       "      <td>13.1</td>\n",
       "      <td>-20.2</td>\n",
       "      <td>POINT (-20.20000 13.10000)</td>\n",
       "    </tr>\n",
       "    <tr>\n",
       "      <th>4</th>\n",
       "      <td>SIX</td>\n",
       "      <td>2.018083e+09</td>\n",
       "      <td>2018.0</td>\n",
       "      <td>08</td>\n",
       "      <td>31.0</td>\n",
       "      <td>0600</td>\n",
       "      <td>1006.0</td>\n",
       "      <td>al</td>\n",
       "      <td>6.0</td>\n",
       "      <td>LO</td>\n",
       "      <td>30.0</td>\n",
       "      <td>0.0</td>\n",
       "      <td>13.4</td>\n",
       "      <td>-21.4</td>\n",
       "      <td>POINT (-21.40000 13.40000)</td>\n",
       "    </tr>\n",
       "    <tr>\n",
       "      <th>...</th>\n",
       "      <td>...</td>\n",
       "      <td>...</td>\n",
       "      <td>...</td>\n",
       "      <td>...</td>\n",
       "      <td>...</td>\n",
       "      <td>...</td>\n",
       "      <td>...</td>\n",
       "      <td>...</td>\n",
       "      <td>...</td>\n",
       "      <td>...</td>\n",
       "      <td>...</td>\n",
       "      <td>...</td>\n",
       "      <td>...</td>\n",
       "      <td>...</td>\n",
       "      <td>...</td>\n",
       "    </tr>\n",
       "    <tr>\n",
       "      <th>70</th>\n",
       "      <td>FLORENCE</td>\n",
       "      <td>2.018092e+09</td>\n",
       "      <td>2018.0</td>\n",
       "      <td>09</td>\n",
       "      <td>16.0</td>\n",
       "      <td>1800</td>\n",
       "      <td>1006.0</td>\n",
       "      <td>al</td>\n",
       "      <td>6.0</td>\n",
       "      <td>TD</td>\n",
       "      <td>30.0</td>\n",
       "      <td>0.0</td>\n",
       "      <td>34.1</td>\n",
       "      <td>-82.1</td>\n",
       "      <td>POINT (-82.10000 34.10000)</td>\n",
       "    </tr>\n",
       "    <tr>\n",
       "      <th>71</th>\n",
       "      <td>FLORENCE</td>\n",
       "      <td>2.018092e+09</td>\n",
       "      <td>2018.0</td>\n",
       "      <td>09</td>\n",
       "      <td>17.0</td>\n",
       "      <td>0000</td>\n",
       "      <td>1007.0</td>\n",
       "      <td>al</td>\n",
       "      <td>6.0</td>\n",
       "      <td>TD</td>\n",
       "      <td>25.0</td>\n",
       "      <td>0.0</td>\n",
       "      <td>35.0</td>\n",
       "      <td>-82.2</td>\n",
       "      <td>POINT (-82.20000 35.00000)</td>\n",
       "    </tr>\n",
       "    <tr>\n",
       "      <th>72</th>\n",
       "      <td>FLORENCE</td>\n",
       "      <td>2.018092e+09</td>\n",
       "      <td>2018.0</td>\n",
       "      <td>09</td>\n",
       "      <td>17.0</td>\n",
       "      <td>0600</td>\n",
       "      <td>1008.0</td>\n",
       "      <td>al</td>\n",
       "      <td>6.0</td>\n",
       "      <td>TD</td>\n",
       "      <td>25.0</td>\n",
       "      <td>0.0</td>\n",
       "      <td>36.4</td>\n",
       "      <td>-82.6</td>\n",
       "      <td>POINT (-82.60000 36.40000)</td>\n",
       "    </tr>\n",
       "    <tr>\n",
       "      <th>73</th>\n",
       "      <td>FLORENCE</td>\n",
       "      <td>2.018092e+09</td>\n",
       "      <td>2018.0</td>\n",
       "      <td>09</td>\n",
       "      <td>17.0</td>\n",
       "      <td>1200</td>\n",
       "      <td>1008.0</td>\n",
       "      <td>al</td>\n",
       "      <td>6.0</td>\n",
       "      <td>EX</td>\n",
       "      <td>25.0</td>\n",
       "      <td>0.0</td>\n",
       "      <td>38.7</td>\n",
       "      <td>-82.0</td>\n",
       "      <td>POINT (-82.00000 38.70000)</td>\n",
       "    </tr>\n",
       "    <tr>\n",
       "      <th>74</th>\n",
       "      <td>FLORENCE</td>\n",
       "      <td>2.018092e+09</td>\n",
       "      <td>2018.0</td>\n",
       "      <td>09</td>\n",
       "      <td>17.0</td>\n",
       "      <td>1800</td>\n",
       "      <td>1008.0</td>\n",
       "      <td>al</td>\n",
       "      <td>6.0</td>\n",
       "      <td>EX</td>\n",
       "      <td>25.0</td>\n",
       "      <td>0.0</td>\n",
       "      <td>38.8</td>\n",
       "      <td>-82.0</td>\n",
       "      <td>POINT (-82.00000 38.80000)</td>\n",
       "    </tr>\n",
       "  </tbody>\n",
       "</table>\n",
       "<p>75 rows × 15 columns</p>\n",
       "</div>"
      ],
      "text/plain": [
       "   STORMNAME           DTG    YEAR MONTH   DAY  HHMM    MSLP BASIN  STORMNUM  \\\n",
       "0     INVEST  2.018083e+09  2018.0    08  30.0  0600  1008.0    al       6.0   \n",
       "1        SIX  2.018083e+09  2018.0    08  30.0  1200  1007.0    al       6.0   \n",
       "2        SIX  2.018083e+09  2018.0    08  30.0  1800  1007.0    al       6.0   \n",
       "3        SIX  2.018083e+09  2018.0    08  31.0  0000  1006.0    al       6.0   \n",
       "4        SIX  2.018083e+09  2018.0    08  31.0  0600  1006.0    al       6.0   \n",
       "..       ...           ...     ...   ...   ...   ...     ...   ...       ...   \n",
       "70  FLORENCE  2.018092e+09  2018.0    09  16.0  1800  1006.0    al       6.0   \n",
       "71  FLORENCE  2.018092e+09  2018.0    09  17.0  0000  1007.0    al       6.0   \n",
       "72  FLORENCE  2.018092e+09  2018.0    09  17.0  0600  1008.0    al       6.0   \n",
       "73  FLORENCE  2.018092e+09  2018.0    09  17.0  1200  1008.0    al       6.0   \n",
       "74  FLORENCE  2.018092e+09  2018.0    09  17.0  1800  1008.0    al       6.0   \n",
       "\n",
       "   STORMTYPE  INTENSITY   SS   LAT   LON                    geometry  \n",
       "0         LO       20.0  0.0  12.8 -16.9  POINT (-16.90000 12.80000)  \n",
       "1         LO       25.0  0.0  12.8 -17.9  POINT (-17.90000 12.80000)  \n",
       "2         LO       25.0  0.0  12.8 -19.0  POINT (-19.00000 12.80000)  \n",
       "3         LO       30.0  0.0  13.1 -20.2  POINT (-20.20000 13.10000)  \n",
       "4         LO       30.0  0.0  13.4 -21.4  POINT (-21.40000 13.40000)  \n",
       "..       ...        ...  ...   ...   ...                         ...  \n",
       "70        TD       30.0  0.0  34.1 -82.1  POINT (-82.10000 34.10000)  \n",
       "71        TD       25.0  0.0  35.0 -82.2  POINT (-82.20000 35.00000)  \n",
       "72        TD       25.0  0.0  36.4 -82.6  POINT (-82.60000 36.40000)  \n",
       "73        EX       25.0  0.0  38.7 -82.0  POINT (-82.00000 38.70000)  \n",
       "74        EX       25.0  0.0  38.8 -82.0  POINT (-82.00000 38.80000)  \n",
       "\n",
       "[75 rows x 15 columns]"
      ]
     },
     "metadata": {},
     "output_type": "display_data"
    },
    {
     "data": {
      "text/plain": [
       "<AxesSubplot:>"
      ]
     },
     "execution_count": 3,
     "metadata": {},
     "output_type": "execute_result"
    },
    {
     "data": {
      "image/png": "[encoded data removed]",
      "text/plain": [
       "<Figure size 432x288 with 1 Axes>"
      ]
     },
     "metadata": {
      "needs_background": "light"
     },
     "output_type": "display_data"
    }
   ],
   "source": [
    "stormcode = \"al062018\"\n",
    "base = \"https://www.nhc.noaa.gov/gis/best_track/\"\n",
    "url = base + stormcode + \"_best_track.zip\"\n",
    "\n",
    "shapefile = gpd.read_file(url)\n",
    "display(shapefile)   \n",
    "shapefile.plot()"
   ]
  },
  {
   "cell_type": "markdown",
   "metadata": {},
   "source": [
    "### Get the track geometry as a linestring"
   ]
  },
  {
   "cell_type": "code",
   "execution_count": 4,
   "metadata": {},
   "outputs": [
    {
     "data": {
      "image/svg+xml": [
       "<svg xmlns=\"http://www.w3.org/2000/svg\" xmlns:xlink=\"http://www.w3.org/1999/xlink\" width=\"100.0\" height=\"100.0\" viewBox=\"-85.228 10.172 70.95599999999999 31.255999999999997\" preserveAspectRatio=\"xMinYMin meet\"><g transform=\"matrix(1,0,0,-1,0,51.599999999999994)\"><polyline fill=\"none\" stroke=\"#66cc99\" stroke-width=\"1.4191199999999997\" points=\"-16.9,12.8 -17.9,12.8 -19.0,12.8 -20.2,13.1 -21.4,13.4 -22.6,13.6 -23.8,13.8 -24.9,14.0 -26.1,14.3 -27.2,14.8 -28.3,15.4 -29.6,15.9 -30.9,16.4 -32.4,16.8 -33.8,17.1 -35.2,17.6 -36.6,17.9 -38.0,18.2 -39.2,18.4 -40.2,18.7 -41.2,19.1 -42.0,19.5 -42.7,20.0 -43.4,20.4 -44.3,21.1 -45.2,21.7 -46.2,22.4 -46.9,23.1 -47.6,23.8 -48.2,24.4 -49.0,24.8 -49.6,25.0 -50.3,25.0 -51.1,24.9 -52.0,24.8 -52.9,24.7 -53.6,24.6 -54.1,24.6 -54.5,24.6 -55.0,24.5 -55.5,24.4 -56.1,24.4 -56.7,24.4 -57.3,24.5 -58.4,24.7 -59.5,24.9 -60.6,25.2 -61.8,25.6 -63.2,26.0 -64.7,26.5 -66.4,27.2 -68.1,27.9 -69.5,28.7 -70.7,29.4 -71.9,30.4 -73.2,31.5 -74.2,32.4 -75.1,33.1 -76.0,33.6 -76.5,34.0 -77.2,34.2 -77.9,34.1 -78.4,34.0 -78.8,33.9 -79.3,33.7 -79.5,33.6 -79.8,33.6 -80.2,33.6 -80.8,33.6 -81.5,33.6 -82.1,34.1 -82.2,35.0 -82.6,36.4 -82.0,38.7 -82.0,38.8\" opacity=\"0.8\" /></g></svg>"
      ],
      "text/plain": [
       "<shapely.geometry.linestring.LineString at 0x7fd5c61143d0>"
      ]
     },
     "metadata": {},
     "output_type": "display_data"
    }
   ],
   "source": [
    "pts = shapefile.geometry\n",
    "# make pts into line string\n",
    "track = shp.LineString([pts[ii].coords[0] for ii in range(0,len(pts))])\n",
    "display(track)"
   ]
  },
  {
   "cell_type": "markdown",
   "metadata": {},
   "source": [
    "### Along-track perturbation"
   ]
  },
  {
   "cell_type": "code",
   "execution_count": 5,
   "metadata": {},
   "outputs": [
    {
     "name": "stdout",
     "output_type": "stream",
     "text": [
      "[(-6.899999999999999, 12.8), (-16.9, 12.8), (-17.9, 12.8)]\n",
      "[-16.78403765087225, 12.802183378438517]\n",
      "[(-16.9, 12.8), (-17.9, 12.8), (-19.0, 12.8)]\n",
      "[-17.78409613947234, 12.800194782467313]\n",
      "[(-17.9, 12.8), (-19.0, 12.8), (-20.2, 13.1)]\n",
      "[-18.884031214938222, 12.800216926353075]\n",
      "[(-19.0, 12.8), (-20.2, 13.1), (-21.4, 13.4)]\n",
      "[-20.087378921247, 13.072105321267362]\n",
      "[(-20.2, 13.1), (-21.4, 13.4), (-22.6, 13.6)]\n",
      "[-21.2872366299303, 13.37208139490917]\n",
      "[(-21.4, 13.4), (-22.6, 13.6), (-23.8, 13.8)]\n",
      "[-22.48523432216505, 13.581139277383654]\n",
      "[(-22.6, 13.6), (-23.8, 13.8), (-24.9, 14.0)]\n",
      "[-23.685224075300326, 13.781145212626965]\n",
      "[(-23.8, 13.8), (-24.9, 14.0), (-26.1, 14.3)]\n",
      "[-24.78539103613837, 13.979402575946946]\n",
      "[(-24.9, 14.0), (-26.1, 14.3), (-27.2, 14.8)]\n",
      "[-25.98683929427264, 14.2719942042631]\n",
      "[(-26.1, 14.3), (-27.2, 14.8), (-28.3, 15.4)]\n",
      "[-27.0938504800864, 14.752073899099559]\n",
      "[(-27.2, 14.8), (-28.3, 15.4), (-29.6, 15.9)]\n",
      "[-28.19756455980997, 15.344506217429966]\n",
      "[(-28.3, 15.4), (-29.6, 15.9), (-30.9, 16.4)]\n",
      "[-29.490635278120266, 15.858347140041941]\n",
      "[(-29.6, 15.9), (-30.9, 16.4), (-32.4, 16.8)]\n",
      "[-30.79037886875475, 16.358222730275482]\n",
      "[(-30.9, 16.4), (-32.4, 16.8), (-33.8, 17.1)]\n",
      "[-32.28599681810363, 16.770031431047798]\n",
      "[(-32.4, 16.8), (-33.8, 17.1), (-35.2, 17.6)]\n",
      "[-33.684385910456974, 17.075627461864492]\n",
      "[(-33.8, 17.1), (-35.2, 17.6), (-36.6, 17.9)]\n",
      "[-35.08868689790679, 17.560718957186385]\n",
      "[(-35.2, 17.6), (-36.6, 17.9), (-38.0, 18.2)]\n",
      "[-36.48399089234898, 17.875546954709893]\n",
      "[(-36.6, 17.9), (-38.0, 18.2), (-39.2, 18.4)]\n",
      "[-37.88372129728289, 18.17550210488331]\n",
      "[(-38.0, 18.2), (-39.2, 18.4), (-40.2, 18.7)]\n",
      "[-39.08248777691385, 18.38076755708435]\n",
      "[(-39.2, 18.4), (-40.2, 18.7), (-41.2, 19.1)]\n",
      "[-40.086004026983346, 18.666126199315094]\n",
      "[(-40.2, 18.7), (-41.2, 19.1), (-42.0, 19.5)]\n",
      "[-41.089588061905175, 19.056205963167905]\n",
      "[(-41.2, 19.1), (-42.0, 19.5), (-42.7, 20.0)]\n",
      "[-41.893830665346115, 19.44724810002052]\n",
      "[(-42.0, 19.5), (-42.7, 20.0), (-43.4, 20.4)]\n",
      "[-42.603865658964665, 19.931659239343464]\n",
      "[(-42.7, 20.0), (-43.4, 20.4), (-44.3, 21.1)]\n",
      "[-43.296693263475504, 20.341261008224524]\n",
      "[(-43.4, 20.4), (-44.3, 21.1), (-45.2, 21.7)]\n",
      "[-44.20639494381009, 21.02770594545528]\n",
      "[(-44.3, 21.1), (-45.2, 21.7), (-46.2, 22.4)]\n",
      "[-45.10065664676303, 21.634250016586808]\n",
      "[(-45.2, 21.7), (-46.2, 22.4), (-46.9, 23.1)]\n",
      "[-46.101977939050215, 22.331973154920647]\n",
      "[(-46.2, 22.4), (-46.9, 23.1), (-47.6, 23.8)]\n",
      "[-46.81623507205947, 23.01680013195297]\n",
      "[(-46.9, 23.1), (-47.6, 23.8), (-48.2, 24.4)]\n",
      "[-47.51605312555115, 23.716646267230324]\n",
      "[(-47.6, 23.8), (-48.2, 24.4), (-49.0, 24.8)]\n",
      "[-48.11597278913833, 24.316418705595773]\n",
      "[(-48.2, 24.4), (-49.0, 24.8), (-49.6, 25.0)]\n",
      "[-48.89061789897705, 24.745697461599477]\n",
      "[(-49.0, 24.8), (-49.6, 25.0), (-50.3, 25.0)]\n",
      "[-49.482757701219384, 24.961155743817574]\n",
      "[(-49.6, 25.0), (-50.3, 25.0), (-51.1, 24.9)]\n",
      "[-50.17520862474764, 25.000241322177814]\n",
      "[(-50.3, 25.0), (-51.1, 24.9), (-52.0, 24.8)]\n",
      "[-50.976490655944254, 24.915730005844278]\n",
      "[(-51.1, 24.9), (-52.0, 24.8), (-52.9, 24.7)]\n",
      "[-51.87636394935014, 24.81406728392233]\n",
      "[(-52.0, 24.8), (-52.9, 24.7), (-53.6, 24.6)]\n",
      "[-52.77650011409509, 24.714049780061785]\n",
      "[(-52.9, 24.7), (-53.6, 24.6), (-54.1, 24.6)]\n",
      "[-53.47722320043452, 24.61778417487182]\n",
      "[(-53.6, 24.6), (-54.1, 24.6), (-54.5, 24.6)]\n",
      "[-53.975737259508094, 24.600155467720565]\n",
      "[(-54.1, 24.6), (-54.5, 24.6), (-55.0, 24.5)]\n",
      "[-54.3757024427976, 24.600114033265488]\n",
      "[(-54.5, 24.6), (-55.0, 24.5), (-55.5, 24.4)]\n",
      "[-54.87865753229439, 24.52443846740781]\n",
      "[(-55.0, 24.5), (-55.5, 24.4), (-56.1, 24.4)]\n",
      "[-55.37872075800505, 24.424424544942635]\n",
      "[(-55.5, 24.4), (-56.1, 24.4), (-56.7, 24.4)]\n",
      "[-55.97581039416213, 24.400195151249303]\n",
      "[(-56.1, 24.4), (-56.7, 24.4), (-57.3, 24.5)]\n",
      "[-56.575797859851136, 24.40019511344463]\n",
      "[(-56.7, 24.4), (-57.3, 24.5), (-58.4, 24.7)]\n",
      "[-57.177680422778835, 24.479819587733616]\n",
      "[(-57.3, 24.5), (-58.4, 24.7), (-59.5, 24.9)]\n",
      "[-58.27784306635413, 24.678220956941814]\n",
      "[(-58.4, 24.7), (-59.5, 24.9), (-60.6, 25.2)]\n",
      "[-59.377717123234305, 24.878204574269077]\n",
      "[(-59.5, 24.9), (-60.6, 25.2), (-61.8, 25.6)]\n",
      "[-60.480228747772934, 25.16779032902278]\n",
      "[(-60.6, 25.2), (-61.8, 25.6), (-63.2, 26.0)]\n",
      "[-61.68213260499897, 25.561252790716296]\n",
      "[(-61.8, 25.6), (-63.2, 26.0), (-64.7, 26.5)]\n",
      "[-63.079831968530314, 25.96629935827463]\n",
      "[(-63.2, 26.0), (-64.7, 26.5), (-66.4, 27.2)]\n",
      "[-64.58128499480819, 26.461165109120408]\n",
      "[(-64.7, 26.5), (-66.4, 27.2), (-68.1, 27.9)]\n",
      "[-66.28424391792974, 27.15322582090676]\n",
      "[(-66.4, 27.2), (-68.1, 27.9), (-69.5, 28.7)]\n",
      "[-67.9835337692059, 27.85297560674122]\n",
      "[(-68.1, 27.9), (-69.5, 28.7), (-70.7, 29.4)]\n",
      "[-69.39134631928685, 28.638856938778076]\n",
      "[(-69.5, 28.7), (-70.7, 29.4), (-71.9, 30.4)]\n",
      "[-70.59158692840154, 29.33760520044859]\n",
      "[(-70.7, 29.4), (-71.9, 30.4), (-73.2, 31.5)]\n",
      "[-71.80491758810575, 30.321943690104124]\n",
      "[(-71.9, 30.4), (-73.2, 31.5), (-74.2, 32.4)]\n",
      "[-73.10496928583223, 31.42084387802531]\n",
      "[(-73.2, 31.5), (-74.2, 32.4), (-75.1, 33.1)]\n",
      "[-74.10755509504365, 32.31784992444234]\n",
      "[(-74.2, 32.4), (-75.1, 33.1), (-76.0, 33.6)]\n",
      "[-75.00039420211316, 33.02338555217537]\n",
      "[(-75.1, 33.1), (-76.0, 33.6), (-76.5, 34.0)]\n",
      "[-75.88657985111877, 33.53766922318035]\n",
      "[(-76.0, 33.6), (-76.5, 34.0), (-77.2, 34.2)]\n",
      "[-76.40141578034354, 33.92159770483989]\n",
      "[(-76.5, 34.0), (-77.2, 34.2), (-77.9, 34.1)]\n",
      "[-77.07068416753366, 34.16342910657622]\n",
      "[(-77.2, 34.2), (-77.9, 34.1), (-78.4, 34.0)]\n",
      "[-77.76560219592339, 34.1195251811725]\n",
      "[(-77.9, 34.1), (-78.4, 34.0), (-78.8, 33.9)]\n",
      "[-78.26753909939829, 34.026716665061585]\n",
      "[(-78.4, 34.0), (-78.8, 33.9), (-79.3, 33.7)]\n",
      "[-78.66963005068835, 33.932763747122]\n",
      "[(-78.8, 33.9), (-79.3, 33.7), (-79.5, 33.6)]\n",
      "[-79.17756060327828, 33.749254629772466]\n",
      "[(-79.3, 33.7), (-79.5, 33.6), (-79.8, 33.6)]\n",
      "[-79.38351457847902, 33.658311523035906]\n",
      "[(-79.5, 33.6), (-79.8, 33.6), (-80.2, 33.6)]\n",
      "[-79.66428470152391, 33.60009013748106]\n",
      "[(-79.8, 33.6), (-80.2, 33.6), (-80.8, 33.6)]\n",
      "[-80.06427241780128, 33.600144984684896]\n",
      "[(-80.2, 33.6), (-80.8, 33.6), (-81.5, 33.6)]\n",
      "[-80.6642627434919, 33.60025468108107]\n",
      "[(-80.8, 33.6), (-81.5, 33.6), (-82.1, 34.1)]\n",
      "[-81.36426452020167, 33.60030952350359]\n",
      "[(-81.5, 33.6), (-82.1, 34.1), (-82.2, 35.0)]\n",
      "[-82.00321451291305, 34.019946658343706]\n",
      "[(-82.1, 34.1), (-82.2, 35.0), (-82.6, 36.4)]\n",
      "[-82.187301052512, 34.88693603268628]\n",
      "[(-82.2, 35.0), (-82.6, 36.4), (-82.0, 38.7)]\n",
      "[-82.56786549726833, 36.28950864864681]\n",
      "[(-82.6, 36.4), (-82.0, 38.7), (-82.0, 38.8)]\n",
      "[-82.02981236241459, 38.588953148608596]\n",
      "[(-82.0, 38.7), (-82.0, 38.8), (-82.0, 39.699999999999946)]\n",
      "[-82.00354590749421, 38.686809689259555]\n"
     ]
    }
   ],
   "source": [
    "# get the coordinates of the track in a list\n",
    "track_coords = list(track.coords)\n",
    "\n",
    "# extrapolation ratio\n",
    "extrap_rat = 10\n",
    "# append point to the beginning for going in negative direction\n",
    "p1 = track_coords[0]\n",
    "p2 = track_coords[1]\n",
    "b = (p1[0]-extrap_rat*(p2[0]-p1[0]), p1[1]-extrap_rat*(p2[1]-p1[1]) )\n",
    "track_coords.insert(0,b)\n",
    "# append point to the end for going in postive direction\n",
    "p1 = track_coords[-2]\n",
    "p2 = track_coords[-1]\n",
    "b = (p1[0]+extrap_rat*(p2[0]-p1[0]), p1[1]+extrap_rat*(p2[1]-p1[1]) )\n",
    "track_coords.append(b)\n",
    "\n",
    "# specify along track error\n",
    "along_track_error = -6.8 #[nm]\n",
    "nm2m = 1852 # nautical miles to meters\n",
    "along_track_error = along_track_error*nm2m\n",
    "along_sign = int(np.sign(along_track_error))\n",
    "along_error = abs(along_track_error)\n",
    "#print(along_error)\n",
    "\n",
    "# loop over all coordinates\n",
    "for ii in range(1,len(track_coords)-1):\n",
    "    # get the utm projection for middle longitude\n",
    "    myProj = utm_proj_from_lon(track_coords[ii][0])\n",
    "    pts = list()\n",
    "    for jj in range(0, along_sign*10, along_sign):\n",
    "        ind = ii + jj\n",
    "        if ind < 0 or ind > len(track_coords)-1:\n",
    "            continue\n",
    "        # get the x,y utm coordinate for this line string\n",
    "        x_utm, y_utm = myProj(track_coords[ind][0], track_coords[ind][1], inverse=False)\n",
    "        pts.append((x_utm,y_utm))\n",
    "    # make the temporary line segment \n",
    "    line_segment = shp.LineString([pts[pp] for pp in range(0,len(pts))])\n",
    "    # interpolate a distance \"along_error\" along the line\n",
    "    pnew = line_segment.interpolate(along_error)\n",
    "    #p1 = line_segment[1] #origin\n",
    "    #p2 = line_segment[1+int(np.sign(along_track_error))] #p2 is based on sign of error\n",
    "    #angle = np.arctan2(p2[1]-p1[1],p2[0]-p1[0])                         \n",
    "    #pnew = (p1[0]+abs(along_track_error)*np.cos(angle), p1[1]+abs(along_track_error)*np.sin(angle) )\n",
    "    #print(pnew)\n",
    "    # get back lat-lon\n",
    "    lon, lat = myProj(pnew.coords[0][0], pnew.coords[0][1], inverse=True)\n",
    "    print(track_coords[ii-1:ii+2])\n",
    "    print([lon,lat])"
   ]
  },
  {
   "cell_type": "markdown",
   "metadata": {},
   "source": [
    "### Plotting comparison to surface temperatures"
   ]
  },
  {
   "cell_type": "code",
   "execution_count": 6,
   "metadata": {},
   "outputs": [
    {
     "ename": "AttributeError",
     "evalue": "'zip' object has no attribute 'n'",
     "output_type": "error",
     "traceback": [
      "\u001b[0;31m---------------------------------------------------------------------------\u001b[0m",
      "\u001b[0;31mAttributeError\u001b[0m                            Traceback (most recent call last)",
      "\u001b[0;32m<ipython-input-6-8e203576a55b>\u001b[0m in \u001b[0;36m<module>\u001b[0;34m\u001b[0m\n\u001b[1;32m      1\u001b[0m \u001b[0mcoordinates\u001b[0m \u001b[0;34m=\u001b[0m \u001b[0miter\u001b[0m\u001b[0;34m(\u001b[0m\u001b[0mzip\u001b[0m\u001b[0;34m(\u001b[0m\u001b[0;34m[\u001b[0m\u001b[0mx_utm\u001b[0m\u001b[0;34m,\u001b[0m\u001b[0mx_utm\u001b[0m\u001b[0;34m]\u001b[0m\u001b[0;34m,\u001b[0m\u001b[0;34m[\u001b[0m\u001b[0my_utm\u001b[0m\u001b[0;34m,\u001b[0m \u001b[0my_utm\u001b[0m\u001b[0;34m]\u001b[0m\u001b[0;34m,\u001b[0m\u001b[0;34m[\u001b[0m\u001b[0;36m1\u001b[0m\u001b[0;34m,\u001b[0m \u001b[0;36m1\u001b[0m\u001b[0;34m]\u001b[0m\u001b[0;34m)\u001b[0m\u001b[0;34m)\u001b[0m\u001b[0;34m\u001b[0m\u001b[0;34m\u001b[0m\u001b[0m\n\u001b[0;32m----> 2\u001b[0;31m \u001b[0mx1\u001b[0m\u001b[0;34m,\u001b[0m \u001b[0my1\u001b[0m\u001b[0;34m,\u001b[0m \u001b[0mz1\u001b[0m \u001b[0;34m=\u001b[0m \u001b[0mcoordinates\u001b[0m\u001b[0;34m.\u001b[0m\u001b[0mn\u001b[0m\u001b[0;34m\u001b[0m\u001b[0;34m\u001b[0m\u001b[0m\n\u001b[0m\u001b[1;32m      3\u001b[0m \u001b[0;32mfor\u001b[0m \u001b[0mx2\u001b[0m\u001b[0;34m,\u001b[0m \u001b[0my2\u001b[0m \u001b[0;34m,\u001b[0m\u001b[0mz\u001b[0m \u001b[0;32min\u001b[0m \u001b[0mcoordinates\u001b[0m\u001b[0;34m:\u001b[0m\u001b[0;34m\u001b[0m\u001b[0;34m\u001b[0m\u001b[0m\n\u001b[1;32m      4\u001b[0m     \u001b[0mprint\u001b[0m\u001b[0;34m(\u001b[0m\u001b[0mx2\u001b[0m\u001b[0;34m)\u001b[0m\u001b[0;34m\u001b[0m\u001b[0;34m\u001b[0m\u001b[0m\n\u001b[1;32m      5\u001b[0m     \u001b[0mprint\u001b[0m\u001b[0;34m(\u001b[0m\u001b[0my2\u001b[0m\u001b[0;34m)\u001b[0m\u001b[0;34m\u001b[0m\u001b[0;34m\u001b[0m\u001b[0m\n",
      "\u001b[0;31mAttributeError\u001b[0m: 'zip' object has no attribute 'n'"
     ]
    }
   ],
   "source": [
    "coordinates = iter(zip([x_utm,x_utm],[y_utm, y_utm],[1, 1]))\n",
    "x1, y1, z1 = coordinates.n\n",
    "for x2, y2 ,z in coordinates:\n",
    "    print(x2)\n",
    "    print(y2)\n",
    "    print(z)"
   ]
  },
  {
   "cell_type": "code",
   "execution_count": null,
   "metadata": {},
   "outputs": [],
   "source": [
    "1+int(np.sign(along_track_error))"
   ]
  },
  {
   "cell_type": "code",
   "execution_count": null,
   "metadata": {},
   "outputs": [],
   "source": [
    "lon,lat = myProj(line_segment[1][0], line_segment[1][1], inverse=True)\n",
    "print([lon,lat])"
   ]
  },
  {
   "cell_type": "code",
   "execution_count": null,
   "metadata": {},
   "outputs": [],
   "source": [
    "line_segment[2]"
   ]
  },
  {
   "cell_type": "code",
   "execution_count": null,
   "metadata": {},
   "outputs": [],
   "source": [
    "len(track_coords)"
   ]
  },
  {
   "cell_type": "code",
   "execution_count": null,
   "metadata": {},
   "outputs": [],
   "source": [
    "track.interpolate()"
   ]
  },
  {
   "cell_type": "code",
   "execution_count": null,
   "metadata": {},
   "outputs": [],
   "source": [
    "pnew.coords[0][0]"
   ]
  },
  {
   "cell_type": "code",
   "execution_count": null,
   "metadata": {},
   "outputs": [],
   "source": [
    "print(track.interpolate(80))"
   ]
  },
  {
   "cell_type": "code",
   "execution_count": null,
   "metadata": {},
   "outputs": [],
   "source": [
    "for ii in range(5, -1, -1):\n",
    "    print(ii)"
   ]
  },
  {
   "cell_type": "code",
   "execution_count": null,
   "metadata": {},
   "outputs": [],
   "source": [
    "track = shp.LineString([track_coords[ii] for ii in range(0,len(track_coords))])\n",
    "display(track)"
   ]
  },
  {
   "cell_type": "code",
   "execution_count": null,
   "metadata": {},
   "outputs": [],
   "source": [
    "track.length"
   ]
  },
  {
   "cell_type": "code",
   "execution_count": null,
   "metadata": {},
   "outputs": [],
   "source": [
    "along_sign = int(np.sign(along_track_error))"
   ]
  },
  {
   "cell_type": "code",
   "execution_count": null,
   "metadata": {},
   "outputs": [],
   "source": [
    "pts = shapefile.geometry\n",
    "pts"
   ]
  },
  {
   "cell_type": "code",
   "execution_count": null,
   "metadata": {},
   "outputs": [],
   "source": [
    "print(track)"
   ]
  },
  {
   "cell_type": "code",
   "execution_count": null,
   "metadata": {},
   "outputs": [],
   "source": []
  },
  {
   "cell_type": "code",
   "execution_count": 244,
   "metadata": {
    "scrolled": true
   },
   "outputs": [
    {
     "name": "stdout",
     "output_type": "stream",
     "text": [
      "22.999587305672687\n",
      "22.26041630228722\n"
     ]
    },
    {
     "data": {
      "image/png": "[encoded data removed]",
      "text/plain": [
       "<Figure size 432x288 with 1 Axes>"
      ]
     },
     "metadata": {
      "needs_background": "light"
     },
     "output_type": "display_data"
    }
   ],
   "source": [
    "from random import random\n",
    "pts = shapefile.geometry\n",
    "errors = list()\n",
    "[errors.append(+(n+1)/100) for n in range(0,len(pts)) ] \n",
    "\n",
    "# offset the point coordinates by \"error\"\n",
    "pn = offset(pts,errors,dist_check=False)\n",
    "pnd = offset(pts,errors,dist_check=True)\n",
    "\n",
    "# original track linestring\n",
    "orig_track = shp.LineString([pts[ii].coords[0] for ii in range(len(pn)-25,len(pts))])\n",
    "# new track linestring\n",
    "new_track = shp.LineString([pn[ii] for ii in range(len(pn)-25,len(pn))])\n",
    "# new track linestring\n",
    "new_trackd = shp.LineString([pnd[ii] for ii in range(len(pn)-25,len(pn))])\n",
    "\n",
    "ax = plt.axes(projection=ccrs.PlateCarree())\n",
    "plt.plot(*orig_track.xy,'b-x')\n",
    "plt.plot(*new_track.xy,'rx-')\n",
    "plt.plot(*new_trackd.xy,'mx-')\n",
    "ax.coastlines()\n",
    "\n",
    "print(orig_track.length)\n",
    "print(new_track.length)"
   ]
  },
  {
   "cell_type": "code",
   "execution_count": 73,
   "metadata": {},
   "outputs": [
    {
     "name": "stdout",
     "output_type": "stream",
     "text": [
      "(-16.9, 12.8)\n",
      "(-17.9, 12.8)\n"
     ]
    }
   ],
   "source": [
    "p1 = pts[0].coords[0]\n",
    "p2 = pts[0+1].coords[0]    \n",
    "print(p1)\n",
    "print(p2)"
   ]
  },
  {
   "cell_type": "code",
   "execution_count": 82,
   "metadata": {},
   "outputs": [
    {
     "data": {
      "text/plain": [
       "(-20.18458593317693, 13.16165626729227)"
      ]
     },
     "execution_count": 82,
     "metadata": {},
     "output_type": "execute_result"
    }
   ],
   "source": [
    "pn[0]"
   ]
  },
  {
   "cell_type": "code",
   "execution_count": null,
   "metadata": {},
   "outputs": [],
   "source": [
    "next(iter(zip(p1,[0, 0.5])))"
   ]
  },
  {
   "cell_type": "code",
   "execution_count": 127,
   "metadata": {},
   "outputs": [
    {
     "data": {
      "text/plain": [
       "<ufunc 'hypot'>"
      ]
     },
     "execution_count": 127,
     "metadata": {},
     "output_type": "execute_result"
    }
   ],
   "source": [
    "np.hypot"
   ]
  },
  {
   "cell_type": "code",
   "execution_count": null,
   "metadata": {},
   "outputs": [],
   "source": []
  }
 ],
 "metadata": {
  "kernelspec": {
   "display_name": "pyaos",
   "language": "python",
   "name": "pyaos"
  },
  "language_info": {
   "codemirror_mode": {
    "name": "ipython",
    "version": 3
   },
   "file_extension": ".py",
   "mimetype": "text/x-python",
   "name": "python",
   "nbconvert_exporter": "python",
   "pygments_lexer": "ipython3",
   "version": "3.7.10"
  }
 },
 "nbformat": 4,
 "nbformat_minor": 4
}
